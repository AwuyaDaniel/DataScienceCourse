{
 "cells": [
  {
   "cell_type": "code",
   "execution_count": null,
   "id": "eb875848-4477-4770-b445-ff24f7b6cc78",
   "metadata": {},
   "outputs": [],
   "source": []
  },
  {
   "cell_type": "code",
   "execution_count": 5,
   "id": "267b9a3a-9af6-464f-9b63-8777635b0d40",
   "metadata": {},
   "outputs": [],
   "source": [
    "import numpy as np"
   ]
  },
  {
   "cell_type": "markdown",
   "id": "21c85eb8-de59-45a1-b7dd-c902d7abb1f6",
   "metadata": {},
   "source": [
    "# 1.Create"
   ]
  },
  {
   "cell_type": "code",
   "execution_count": 6,
   "id": "7179130e-2bcd-4a2e-b801-768e96c53441",
   "metadata": {},
   "outputs": [],
   "source": [
    "data = np.random.rand(2,3,4)\n",
    "zeroes = np.zeros((2,2,2))\n",
    "full = np.full((2,2,2), 7)\n",
    "ones = np.ones((2,2,2))"
   ]
  },
  {
   "cell_type": "code",
   "execution_count": 7,
   "id": "b8673e78-25e5-45b1-abbd-c1c699967c1a",
   "metadata": {},
   "outputs": [
    {
     "data": {
      "text/plain": [
       "array([[[0.45624253, 0.31823093, 0.52641118, 0.61874506],\n",
       "        [0.35147174, 0.21171452, 0.92150869, 0.06587676],\n",
       "        [0.21327781, 0.35569617, 0.19175104, 0.60752038]],\n",
       "\n",
       "       [[0.76898546, 0.56827945, 0.30340118, 0.44773962],\n",
       "        [0.83489029, 0.40836227, 0.36543685, 0.04605575],\n",
       "        [0.884157  , 0.70443803, 0.78259841, 0.43264858]]])"
      ]
     },
     "execution_count": 7,
     "metadata": {},
     "output_type": "execute_result"
    }
   ],
   "source": [
    "data"
   ]
  },
  {
   "cell_type": "code",
   "execution_count": 8,
   "id": "4b95ad20-02fd-45d7-a67d-8764b87260fe",
   "metadata": {},
   "outputs": [
    {
     "data": {
      "text/plain": [
       "array([[[0., 0.],\n",
       "        [0., 0.]],\n",
       "\n",
       "       [[0., 0.],\n",
       "        [0., 0.]]])"
      ]
     },
     "execution_count": 8,
     "metadata": {},
     "output_type": "execute_result"
    }
   ],
   "source": [
    "zeroes"
   ]
  },
  {
   "cell_type": "code",
   "execution_count": 9,
   "id": "1782eb9d-cded-49c2-a8b4-dd913681a6cb",
   "metadata": {},
   "outputs": [
    {
     "data": {
      "text/plain": [
       "array([[[7, 7],\n",
       "        [7, 7]],\n",
       "\n",
       "       [[7, 7],\n",
       "        [7, 7]]])"
      ]
     },
     "execution_count": 9,
     "metadata": {},
     "output_type": "execute_result"
    }
   ],
   "source": [
    "full"
   ]
  },
  {
   "cell_type": "code",
   "execution_count": 10,
   "id": "3d0bb4f8-6df4-40ef-a85a-afc0892a7512",
   "metadata": {},
   "outputs": [
    {
     "data": {
      "text/plain": [
       "array([[[1., 1.],\n",
       "        [1., 1.]],\n",
       "\n",
       "       [[1., 1.],\n",
       "        [1., 1.]]])"
      ]
     },
     "execution_count": 10,
     "metadata": {},
     "output_type": "execute_result"
    }
   ],
   "source": [
    "ones"
   ]
  },
  {
   "cell_type": "markdown",
   "id": "fb05ecf9-d567-4903-8d0e-8de57437438d",
   "metadata": {},
   "source": [
    "# 2. Read"
   ]
  },
  {
   "cell_type": "code",
   "execution_count": 12,
   "id": "9e83ece0-d9f0-4adc-b1a3-5507f2a12025",
   "metadata": {},
   "outputs": [],
   "source": [
    "# Attributes\n",
    "shape = data.shape\n",
    "size = data.size\n",
    "types = data.dtype\n"
   ]
  },
  {
   "cell_type": "code",
   "execution_count": 13,
   "id": "f2044a93-abba-4d4e-bf74-88c0eace0daa",
   "metadata": {},
   "outputs": [
    {
     "data": {
      "text/plain": [
       "(2, 3, 4)"
      ]
     },
     "execution_count": 13,
     "metadata": {},
     "output_type": "execute_result"
    }
   ],
   "source": [
    "shape"
   ]
  },
  {
   "cell_type": "code",
   "execution_count": 14,
   "id": "52168d65-c170-44c3-8752-a7c6ca432148",
   "metadata": {},
   "outputs": [
    {
     "data": {
      "text/plain": [
       "24"
      ]
     },
     "execution_count": 14,
     "metadata": {},
     "output_type": "execute_result"
    }
   ],
   "source": [
    "size"
   ]
  },
  {
   "cell_type": "code",
   "execution_count": 15,
   "id": "bdcb8698-c47b-42db-b7de-ed4917ffef5e",
   "metadata": {},
   "outputs": [
    {
     "data": {
      "text/plain": [
       "dtype('float64')"
      ]
     },
     "execution_count": 15,
     "metadata": {},
     "output_type": "execute_result"
    }
   ],
   "source": [
    "types"
   ]
  },
  {
   "cell_type": "code",
   "execution_count": 16,
   "id": "76c84f12-0fe9-4a91-a858-5e2077bb81ba",
   "metadata": {},
   "outputs": [],
   "source": [
    "# Slicing\n",
    "arr = data[0]\n",
    "slicer = data[0][0:2]\n",
    "reverse = data[-1]\n",
    "singleval = data[0][0][0]"
   ]
  },
  {
   "cell_type": "code",
   "execution_count": 17,
   "id": "4a1ac70d-d07e-4df7-b354-f15f8c2fd78f",
   "metadata": {},
   "outputs": [
    {
     "data": {
      "text/plain": [
       "array([[0.45624253, 0.31823093, 0.52641118, 0.61874506],\n",
       "       [0.35147174, 0.21171452, 0.92150869, 0.06587676],\n",
       "       [0.21327781, 0.35569617, 0.19175104, 0.60752038]])"
      ]
     },
     "execution_count": 17,
     "metadata": {},
     "output_type": "execute_result"
    }
   ],
   "source": [
    "arr"
   ]
  },
  {
   "cell_type": "code",
   "execution_count": 18,
   "id": "803ad5b8-5958-4a84-8318-6bf5513a27ba",
   "metadata": {},
   "outputs": [
    {
     "data": {
      "text/plain": [
       "array([[0.45624253, 0.31823093, 0.52641118, 0.61874506],\n",
       "       [0.35147174, 0.21171452, 0.92150869, 0.06587676]])"
      ]
     },
     "execution_count": 18,
     "metadata": {},
     "output_type": "execute_result"
    }
   ],
   "source": [
    "slicer"
   ]
  },
  {
   "cell_type": "code",
   "execution_count": 19,
   "id": "8997a4ce-ccc9-40c9-a9c4-37a33de90849",
   "metadata": {},
   "outputs": [
    {
     "data": {
      "text/plain": [
       "array([[0.76898546, 0.56827945, 0.30340118, 0.44773962],\n",
       "       [0.83489029, 0.40836227, 0.36543685, 0.04605575],\n",
       "       [0.884157  , 0.70443803, 0.78259841, 0.43264858]])"
      ]
     },
     "execution_count": 19,
     "metadata": {},
     "output_type": "execute_result"
    }
   ],
   "source": [
    "reverse"
   ]
  },
  {
   "cell_type": "code",
   "execution_count": 20,
   "id": "67563683-971f-4127-a0d4-c7337df86e75",
   "metadata": {},
   "outputs": [
    {
     "data": {
      "text/plain": [
       "0.45624252772883445"
      ]
     },
     "execution_count": 20,
     "metadata": {},
     "output_type": "execute_result"
    }
   ],
   "source": [
    "singleval"
   ]
  },
  {
   "cell_type": "code",
   "execution_count": 21,
   "id": "66199aca-de1c-4460-939e-fd01d9f139c8",
   "metadata": {},
   "outputs": [
    {
     "data": {
      "text/plain": [
       "array([[[0.45624253, 0.31823093, 0.52641118, 0.61874506],\n",
       "        [0.35147174, 0.21171452, 0.92150869, 0.06587676],\n",
       "        [0.21327781, 0.35569617, 0.19175104, 0.60752038]],\n",
       "\n",
       "       [[0.76898546, 0.56827945, 0.30340118, 0.44773962],\n",
       "        [0.83489029, 0.40836227, 0.36543685, 0.04605575],\n",
       "        [0.884157  , 0.70443803, 0.78259841, 0.43264858]]])"
      ]
     },
     "execution_count": 21,
     "metadata": {},
     "output_type": "execute_result"
    }
   ],
   "source": [
    "data"
   ]
  },
  {
   "cell_type": "markdown",
   "id": "4a05a28e-b84b-48e8-80b6-63e66048382d",
   "metadata": {},
   "source": [
    "# 3. Update"
   ]
  },
  {
   "cell_type": "code",
   "execution_count": 22,
   "id": "6da71f42-f8a3-4b16-9b9b-97c363525a07",
   "metadata": {},
   "outputs": [],
   "source": [
    "list1 = np.random.rand(10) \n",
    "list2 = np.random.rand(10) "
   ]
  },
  {
   "cell_type": "code",
   "execution_count": 24,
   "id": "a5d80ab3-2b89-443f-9c13-c542f8114b6c",
   "metadata": {},
   "outputs": [
    {
     "data": {
      "text/plain": [
       "array([0.98666243, 0.33574888, 0.2836642 , 0.35469119, 0.28882924,\n",
       "       0.42057162, 0.98241592, 0.9832969 , 0.99438996, 0.96308695])"
      ]
     },
     "execution_count": 24,
     "metadata": {},
     "output_type": "execute_result"
    }
   ],
   "source": [
    "list1"
   ]
  },
  {
   "cell_type": "code",
   "execution_count": 25,
   "id": "de4a5521-dfcb-4f5d-8f14-534f7aa928dd",
   "metadata": {},
   "outputs": [
    {
     "data": {
      "text/plain": [
       "array([0.40937981, 0.79956988, 0.10866178, 0.54070308, 0.94844318,\n",
       "       0.37623364, 0.33332504, 0.48565818, 0.29076904, 0.20697868])"
      ]
     },
     "execution_count": 25,
     "metadata": {},
     "output_type": "execute_result"
    }
   ],
   "source": [
    "list2"
   ]
  },
  {
   "cell_type": "code",
   "execution_count": 26,
   "id": "c965eee7-2aa3-4484-86e8-ded0cf151c1e",
   "metadata": {},
   "outputs": [],
   "source": [
    "# Basic Math\n",
    "add = np.add(list1, list2)\n",
    "sub = np.subtract(list1, list2)\n",
    "div = np.divide(list1, list2)\n",
    "mult = np.multiply(list1, list2)\n",
    "dot = np.dot(list1, list2)"
   ]
  },
  {
   "cell_type": "code",
   "execution_count": 27,
   "id": "75010773-67e6-4a13-9cb7-ff84b73db3be",
   "metadata": {},
   "outputs": [
    {
     "data": {
      "text/plain": [
       "array([1.39604224, 1.13531875, 0.39232598, 0.89539427, 1.23727243,\n",
       "       0.79680526, 1.31574097, 1.46895509, 1.28515899, 1.17006563])"
      ]
     },
     "execution_count": 27,
     "metadata": {},
     "output_type": "execute_result"
    }
   ],
   "source": [
    "add"
   ]
  },
  {
   "cell_type": "code",
   "execution_count": 28,
   "id": "df7de646-bae2-47c5-9f4d-30183576d88f",
   "metadata": {},
   "outputs": [
    {
     "data": {
      "text/plain": [
       "array([ 0.57728263, -0.463821  ,  0.17500242, -0.18601189, -0.65961394,\n",
       "        0.04433799,  0.64909088,  0.49763872,  0.70362092,  0.75610828])"
      ]
     },
     "execution_count": 28,
     "metadata": {},
     "output_type": "execute_result"
    }
   ],
   "source": [
    "sub"
   ]
  },
  {
   "cell_type": "code",
   "execution_count": 29,
   "id": "06992022-aeb6-425e-99f9-fedaad7626f8",
   "metadata": {},
   "outputs": [
    {
     "data": {
      "text/plain": [
       "array([2.41013948, 0.41991186, 2.61052419, 0.65598145, 0.30452983,\n",
       "       1.11784695, 2.94732109, 2.02466865, 3.41986189, 4.65307331])"
      ]
     },
     "execution_count": 29,
     "metadata": {},
     "output_type": "execute_result"
    }
   ],
   "source": [
    "div"
   ]
  },
  {
   "cell_type": "code",
   "execution_count": 30,
   "id": "464b0125-5152-409f-8b00-c1563114ddc5",
   "metadata": {},
   "outputs": [
    {
     "data": {
      "text/plain": [
       "array([0.40391967, 0.26845469, 0.03082346, 0.19178262, 0.27393813,\n",
       "       0.15823319, 0.32746383, 0.47754619, 0.28913781, 0.19933846])"
      ]
     },
     "execution_count": 30,
     "metadata": {},
     "output_type": "execute_result"
    }
   ],
   "source": [
    "mult"
   ]
  },
  {
   "cell_type": "code",
   "execution_count": 31,
   "id": "e20f0e33-88ca-4e92-860f-f583ff04192e",
   "metadata": {},
   "outputs": [
    {
     "data": {
      "text/plain": [
       "2.6206380460326484"
      ]
     },
     "execution_count": 31,
     "metadata": {},
     "output_type": "execute_result"
    }
   ],
   "source": [
    "dot"
   ]
  },
  {
   "cell_type": "code",
   "execution_count": 32,
   "id": "b5829780-7534-4670-b495-27fac74ab04a",
   "metadata": {},
   "outputs": [],
   "source": [
    "# Stat Functions\n",
    "sqrt = np.sqrt(25)\n",
    "ab = np.abs(-2)\n",
    "power = np.power(2,7)\n",
    "log = np.log(25)\n",
    "exp = np.exp([2,3])\n",
    "mins = np.min(list1)\n",
    "maxs = np.max(list1)"
   ]
  },
  {
   "cell_type": "code",
   "execution_count": 33,
   "id": "f845e7b9-1ff4-42b9-a69e-32199a0ca16b",
   "metadata": {},
   "outputs": [
    {
     "data": {
      "text/plain": [
       "5.0"
      ]
     },
     "execution_count": 33,
     "metadata": {},
     "output_type": "execute_result"
    }
   ],
   "source": [
    "sqrt"
   ]
  },
  {
   "cell_type": "code",
   "execution_count": 34,
   "id": "29006507-be65-4deb-a4f5-04d4b463ecaf",
   "metadata": {},
   "outputs": [
    {
     "data": {
      "text/plain": [
       "2"
      ]
     },
     "execution_count": 34,
     "metadata": {},
     "output_type": "execute_result"
    }
   ],
   "source": [
    "ab"
   ]
  },
  {
   "cell_type": "code",
   "execution_count": 35,
   "id": "811b070d-6b24-4658-8061-bb0d76abfcbf",
   "metadata": {},
   "outputs": [
    {
     "data": {
      "text/plain": [
       "128"
      ]
     },
     "execution_count": 35,
     "metadata": {},
     "output_type": "execute_result"
    }
   ],
   "source": [
    "power"
   ]
  },
  {
   "cell_type": "code",
   "execution_count": 36,
   "id": "ee109d48-d907-492b-935e-bf5c73fc44dd",
   "metadata": {},
   "outputs": [
    {
     "data": {
      "text/plain": [
       "3.2188758248682006"
      ]
     },
     "execution_count": 36,
     "metadata": {},
     "output_type": "execute_result"
    }
   ],
   "source": [
    "log"
   ]
  },
  {
   "cell_type": "code",
   "execution_count": 37,
   "id": "8d48c821-d654-4c87-b5e6-fd06b387a652",
   "metadata": {},
   "outputs": [
    {
     "data": {
      "text/plain": [
       "array([ 7.3890561 , 20.08553692])"
      ]
     },
     "execution_count": 37,
     "metadata": {},
     "output_type": "execute_result"
    }
   ],
   "source": [
    "exp"
   ]
  },
  {
   "cell_type": "code",
   "execution_count": 38,
   "id": "a428166d-0297-4f2e-a67c-66a07c3d703b",
   "metadata": {},
   "outputs": [
    {
     "data": {
      "text/plain": [
       "0.2836642010478625"
      ]
     },
     "execution_count": 38,
     "metadata": {},
     "output_type": "execute_result"
    }
   ],
   "source": [
    "mins"
   ]
  },
  {
   "cell_type": "code",
   "execution_count": 39,
   "id": "07a6aa0b-7d76-41c7-b03d-b79ed8604509",
   "metadata": {},
   "outputs": [
    {
     "data": {
      "text/plain": [
       "0.9943899550260465"
      ]
     },
     "execution_count": 39,
     "metadata": {},
     "output_type": "execute_result"
    }
   ],
   "source": [
    "maxs"
   ]
  },
  {
   "cell_type": "code",
   "execution_count": 40,
   "id": "63edae18-73b5-496f-b747-6eb9c88414b2",
   "metadata": {},
   "outputs": [
    {
     "data": {
      "text/plain": [
       "array([[[0.45624253, 0.31823093, 0.52641118, 0.61874506],\n",
       "        [0.35147174, 0.21171452, 0.92150869, 0.06587676],\n",
       "        [0.21327781, 0.35569617, 0.19175104, 0.60752038]],\n",
       "\n",
       "       [[0.76898546, 0.56827945, 0.30340118, 0.44773962],\n",
       "        [0.83489029, 0.40836227, 0.36543685, 0.04605575],\n",
       "        [0.884157  , 0.70443803, 0.78259841, 0.43264858]]])"
      ]
     },
     "execution_count": 40,
     "metadata": {},
     "output_type": "execute_result"
    }
   ],
   "source": [
    "data"
   ]
  },
  {
   "cell_type": "code",
   "execution_count": 41,
   "id": "2ecde761-ebb4-499f-96e0-3014a29bd845",
   "metadata": {},
   "outputs": [
    {
     "data": {
      "text/plain": [
       "array([[[7.00000000e+02, 3.18230928e-01, 5.26411185e-01, 6.18745058e-01],\n",
       "        [3.51471739e-01, 2.11714521e-01, 9.21508694e-01, 6.58767580e-02],\n",
       "        [2.13277808e-01, 3.55696168e-01, 1.91751039e-01, 6.07520382e-01]],\n",
       "\n",
       "       [[7.68985457e-01, 5.68279455e-01, 3.03401178e-01, 4.47739623e-01],\n",
       "        [8.34890293e-01, 4.08362271e-01, 3.65436851e-01, 4.60557491e-02],\n",
       "        [8.84157000e-01, 7.04438032e-01, 7.82598408e-01, 4.32648575e-01]]])"
      ]
     },
     "execution_count": 41,
     "metadata": {},
     "output_type": "execute_result"
    }
   ],
   "source": [
    "data[0][0][0] = 700\n",
    "data"
   ]
  },
  {
   "cell_type": "code",
   "execution_count": 42,
   "id": "3ced1475-795e-43d2-8df5-3cd0246dd052",
   "metadata": {},
   "outputs": [
    {
     "data": {
      "text/plain": [
       "array([[[3.18230928e-01, 5.26411185e-01, 6.18745058e-01, 7.00000000e+02],\n",
       "        [6.58767580e-02, 2.11714521e-01, 3.51471739e-01, 9.21508694e-01],\n",
       "        [1.91751039e-01, 2.13277808e-01, 3.55696168e-01, 6.07520382e-01]],\n",
       "\n",
       "       [[3.03401178e-01, 4.47739623e-01, 5.68279455e-01, 7.68985457e-01],\n",
       "        [4.60557491e-02, 3.65436851e-01, 4.08362271e-01, 8.34890293e-01],\n",
       "        [4.32648575e-01, 7.04438032e-01, 7.82598408e-01, 8.84157000e-01]]])"
      ]
     },
     "execution_count": 42,
     "metadata": {},
     "output_type": "execute_result"
    }
   ],
   "source": [
    "data.sort()\n",
    "data"
   ]
  },
  {
   "cell_type": "code",
   "execution_count": 43,
   "id": "e53336cd-beb3-4c15-b004-cfafc51586a7",
   "metadata": {},
   "outputs": [
    {
     "name": "stdout",
     "output_type": "stream",
     "text": [
      "(2, 3, 4)\n"
     ]
    },
    {
     "data": {
      "text/plain": [
       "(2, 2, 6)"
      ]
     },
     "execution_count": 43,
     "metadata": {},
     "output_type": "execute_result"
    }
   ],
   "source": [
    "print(data.shape)\n",
    "data = data.reshape((2,2,-1))\n",
    "data.shape"
   ]
  },
  {
   "cell_type": "code",
   "execution_count": 44,
   "id": "6e349c23-d363-4cc1-b7db-c13c35871b42",
   "metadata": {},
   "outputs": [
    {
     "name": "stdout",
     "output_type": "stream",
     "text": [
      "[0. 0. 0. 0. 0. 0. 0. 0.]\n",
      "[0. 0. 0. 0. 0. 0. 0. 0. 3. 4.]\n"
     ]
    }
   ],
   "source": [
    "zeroes = np.zeros((8))\n",
    "print(zeroes)\n",
    "zeroes = np.append(zeroes, [3,4])\n",
    "print(zeroes)"
   ]
  },
  {
   "cell_type": "code",
   "execution_count": 45,
   "id": "47c4d000-307f-4d9d-b706-2b748e4ed21a",
   "metadata": {},
   "outputs": [
    {
     "name": "stdout",
     "output_type": "stream",
     "text": [
      "[0. 0. 1. 0. 0. 0. 0. 0. 0. 3. 4.]\n"
     ]
    }
   ],
   "source": [
    "zeroes = np.insert(zeroes, 2, 1)\n",
    "print(zeroes)"
   ]
  },
  {
   "cell_type": "markdown",
   "id": "4de5dbb1-3651-447f-b216-13ce1771774a",
   "metadata": {},
   "source": [
    "# 4. Delete"
   ]
  },
  {
   "cell_type": "code",
   "execution_count": 46,
   "id": "7bde0f83-c3e2-4eb4-a15a-6678ab8b2153",
   "metadata": {},
   "outputs": [
    {
     "data": {
      "text/plain": [
       "array([[[3.18230928e-01, 5.26411185e-01, 6.18745058e-01, 7.00000000e+02,\n",
       "         6.58767580e-02, 2.11714521e-01],\n",
       "        [3.51471739e-01, 9.21508694e-01, 1.91751039e-01, 2.13277808e-01,\n",
       "         3.55696168e-01, 6.07520382e-01]],\n",
       "\n",
       "       [[3.03401178e-01, 4.47739623e-01, 5.68279455e-01, 7.68985457e-01,\n",
       "         4.60557491e-02, 3.65436851e-01],\n",
       "        [4.08362271e-01, 8.34890293e-01, 4.32648575e-01, 7.04438032e-01,\n",
       "         7.82598408e-01, 8.84157000e-01]]])"
      ]
     },
     "execution_count": 46,
     "metadata": {},
     "output_type": "execute_result"
    }
   ],
   "source": [
    "data"
   ]
  },
  {
   "cell_type": "code",
   "execution_count": 47,
   "id": "13547c54-85d6-4443-b2a2-c7dea9f893f7",
   "metadata": {},
   "outputs": [
    {
     "data": {
      "text/plain": [
       "array([[[0.35147174, 0.92150869, 0.19175104, 0.21327781, 0.35569617,\n",
       "         0.60752038]],\n",
       "\n",
       "       [[0.40836227, 0.83489029, 0.43264858, 0.70443803, 0.78259841,\n",
       "         0.884157  ]]])"
      ]
     },
     "execution_count": 47,
     "metadata": {},
     "output_type": "execute_result"
    }
   ],
   "source": [
    "np.delete(data, 0, axis=1)"
   ]
  },
  {
   "cell_type": "code",
   "execution_count": 48,
   "id": "bd242c90-0e81-4a98-a022-ad7d6452dd86",
   "metadata": {},
   "outputs": [],
   "source": [
    "np.save(\"new array\", data)"
   ]
  },
  {
   "cell_type": "code",
   "execution_count": 49,
   "id": "4ecaca9b-fa64-4cbc-8c1b-34c2369a55d4",
   "metadata": {},
   "outputs": [],
   "source": [
    "test = np.load(\"new array.npy\")\n"
   ]
  },
  {
   "cell_type": "code",
   "execution_count": 50,
   "id": "f94a604d-4c60-41f6-8bd0-6d0b2ba4657f",
   "metadata": {},
   "outputs": [
    {
     "data": {
      "text/plain": [
       "array([[[3.18230928e-01, 5.26411185e-01, 6.18745058e-01, 7.00000000e+02,\n",
       "         6.58767580e-02, 2.11714521e-01],\n",
       "        [3.51471739e-01, 9.21508694e-01, 1.91751039e-01, 2.13277808e-01,\n",
       "         3.55696168e-01, 6.07520382e-01]],\n",
       "\n",
       "       [[3.03401178e-01, 4.47739623e-01, 5.68279455e-01, 7.68985457e-01,\n",
       "         4.60557491e-02, 3.65436851e-01],\n",
       "        [4.08362271e-01, 8.34890293e-01, 4.32648575e-01, 7.04438032e-01,\n",
       "         7.82598408e-01, 8.84157000e-01]]])"
      ]
     },
     "execution_count": 50,
     "metadata": {},
     "output_type": "execute_result"
    }
   ],
   "source": [
    "test"
   ]
  },
  {
   "cell_type": "code",
   "execution_count": null,
   "id": "b038fa1f-a140-4a0c-a4cf-ec122ccc0fcd",
   "metadata": {},
   "outputs": [],
   "source": []
  }
 ],
 "metadata": {
  "kernelspec": {
   "display_name": "Python 3 (ipykernel)",
   "language": "python",
   "name": "python3"
  },
  "language_info": {
   "codemirror_mode": {
    "name": "ipython",
    "version": 3
   },
   "file_extension": ".py",
   "mimetype": "text/x-python",
   "name": "python",
   "nbconvert_exporter": "python",
   "pygments_lexer": "ipython3",
   "version": "3.8.18"
  }
 },
 "nbformat": 4,
 "nbformat_minor": 5
}
